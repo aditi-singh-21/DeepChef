{
 "cells": [
  {
   "cell_type": "code",
   "execution_count": 60,
   "metadata": {},
   "outputs": [],
   "source": [
    "import os\n",
    "import csv\n",
    "import json\n",
    "from bs4 import BeautifulSoup\n",
    "import shutil\n",
    "import requests\n",
    "import pandas as pd\n",
    "import re"
   ]
  },
  {
   "cell_type": "code",
   "execution_count": 61,
   "metadata": {},
   "outputs": [],
   "source": [
    "recipes=[]"
   ]
  },
  {
   "cell_type": "code",
   "execution_count": 62,
   "metadata": {},
   "outputs": [],
   "source": [
    "def get_cooking_time(soup):\n",
    "    duration=\"\"\n",
    "    facts=soup.find_all('div',{'class':'facts'})\n",
    "    for fact in facts:\n",
    "        time=fact.find('div',{'class':'facts__item'})\n",
    "        time1=time.find('dd',{'class':'facts__value'})\n",
    "        duration=duration+time1.get_text()\n",
    "    return duration"
   ]
  },
  {
   "cell_type": "code",
   "execution_count": 63,
   "metadata": {},
   "outputs": [],
   "source": [
    "\n",
    "def get_ingredients(soup):\n",
    "    ingredient=soup.find_all('ul',{'class':'ingredient-list'})\n",
    "    ingredients=\"\"\n",
    "    for i in ingredient:\n",
    "        ingri=i.find_all('li')\n",
    "        for li in ingri:\n",
    "            if(li.find('h4')):\n",
    "                continue\n",
    "            text=\"\"\n",
    "            for span in li.find_all('span',{'class':'ingredient-text'}):\n",
    "               text=text+span.get_text(separator=' ', strip=True) + ' '\n",
    "            for quantity in li.find_all('span',{'class':'ingredient-quantity'}):\n",
    "                text=quantity.get_text()+' '+text\n",
    "            ingredients=ingredients+text.strip()+\"\\n\"\n",
    "    return ingredients"
   ]
  },
  {
   "cell_type": "code",
   "execution_count": 64,
   "metadata": {},
   "outputs": [],
   "source": [
    "def get_directions(soup):\n",
    "    curr_recipe=soup.find('div',{'class':'current-recipe'})\n",
    "    directions=\"\"\n",
    "    ul=curr_recipe.find('ul',{'class':'direction-list'})\n",
    "    li=ul.find_all('li',{'class':'direction'})\n",
    "    for direction in li:\n",
    "        list_item_text=direction.text.encode('ascii','ignore')\n",
    "        directions+=list_item_text.decode() + \"\\n\"\n",
    "    return directions\n",
    "        \n",
    "        "
   ]
  },
  {
   "cell_type": "code",
   "execution_count": 65,
   "metadata": {},
   "outputs": [],
   "source": [
    "def get_servings(soup):\n",
    "    servings=\"\"\n",
    "    facts=soup.find_all('div',{'class':'facts'})\n",
    "    for fact in facts:\n",
    "        items=fact.find_all('div',{'class':'facts__item'})\n",
    "        for item in items:\n",
    "            serving=item.find('dd',{'class':'facts__value'})\n",
    "            if(serving.find('span',{'class':'value'})):\n",
    "                servings=servings+serving.find('span',{'class':'value'}).get_text()\n",
    "            else:\n",
    "                continue\n",
    "    return servings"
   ]
  },
  {
   "cell_type": "code",
   "execution_count": 66,
   "metadata": {},
   "outputs": [],
   "source": [
    "def get_calories(soup):\n",
    "    script_tag = soup.find('script', type='application/ld+json')\n",
    "    if script_tag is not None:\n",
    "        calories_json = script_tag.string\n",
    "        if calories_json is not None:\n",
    "            calories = json.loads(calories_json).get(\"nutrition\", {}).get(\"calories\")\n",
    "            return calories\n",
    "    return None"
   ]
  },
  {
   "cell_type": "code",
   "execution_count": 67,
   "metadata": {},
   "outputs": [],
   "source": [
    "def text_scrape(recipe_name,url):\n",
    "    data=requests.get(url)\n",
    "    soup=BeautifulSoup(data.content,'html.parser')\n",
    "    dicto={'name':recipe_name,'cooking_time':get_cooking_time(soup),'calories':get_calories(soup),'ingredients':get_ingredients(soup),'directions':get_directions(soup),'serving':get_servings(soup)}\n",
    "    return dicto"
   ]
  },
  {
   "cell_type": "code",
   "execution_count": null,
   "metadata": {},
   "outputs": [],
   "source": [
    "def main():\n",
    "    df=pd.read_csv(r\"C:\\Users\\aditi\\OneDrive\\Desktop\\DeepChef Personal\\links_copy_main.csv\")\n",
    "    for index, row in df.iloc[667:778].iterrows():\n",
    "        recipes.append(text_scrape(row['name'],row['link']))\n",
    "    with open('recipes.json','r+') as f:\n",
    "        json.dump(recipes,f)\n",
    "\n",
    "if __name__==\"__main__\":\n",
    "    main()"
   ]
  },
  {
   "cell_type": "code",
   "execution_count": 69,
   "metadata": {},
   "outputs": [],
   "source": [
    "with open(\"recipes.json\", 'r',encoding=\"utf8\") as f:\n",
    "    data = f.read()\n",
    "\n",
    "# Regular expression to match \"\\u2044\" preceded and followed by digits\n",
    "pattern = r\"(\\d)\\\\u2044(\\d)\" #1 1\\u20442\n",
    "# Replace matches with \"numerator/denominator\" format\n",
    "converted_data = re.sub(pattern, r\"\\1/\\2\", data)\n",
    "\n",
    "# Write the converted data back to the file\n",
    "with open(\"recipes.json\", 'w') as f:\n",
    "    f.write(converted_data)"
   ]
  },
  {
   "cell_type": "code",
   "execution_count": null,
   "metadata": {},
   "outputs": [],
   "source": []
  }
 ],
 "metadata": {
  "kernelspec": {
   "display_name": "Python 3",
   "language": "python",
   "name": "python3"
  },
  "language_info": {
   "codemirror_mode": {
    "name": "ipython",
    "version": 3
   },
   "file_extension": ".py",
   "mimetype": "text/x-python",
   "name": "python",
   "nbconvert_exporter": "python",
   "pygments_lexer": "ipython3",
   "version": "3.10.11"
  }
 },
 "nbformat": 4,
 "nbformat_minor": 2
}
